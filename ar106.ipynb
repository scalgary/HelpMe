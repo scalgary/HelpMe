{
  "nbformat": 4,
  "nbformat_minor": 0,
  "metadata": {
    "colab": {
      "provenance": [],
      "mount_file_id": "1aLiJ1-xuEcaBPAIl4lVjLiztV8GdjjBU",
      "authorship_tag": "ABX9TyN30/5JYc4VBCdsWvF6NIcF",
      "include_colab_link": true
    },
    "kernelspec": {
      "name": "python3",
      "display_name": "Python 3"
    },
    "language_info": {
      "name": "python"
    }
  },
  "cells": [
    {
      "cell_type": "markdown",
      "metadata": {
        "id": "view-in-github",
        "colab_type": "text"
      },
      "source": [
        "<a href=\"https://colab.research.google.com/github/scalgary92/HelpMe/blob/master/ar106.ipynb\" target=\"_parent\"><img src=\"https://colab.research.google.com/assets/colab-badge.svg\" alt=\"Open In Colab\"/></a>"
      ]
    },
    {
      "cell_type": "markdown",
      "source": [
        "**<font color='blue'>You can mount your Google Drive</font>**"
      ],
      "metadata": {
        "id": "nMnYuqzQq2Ii"
      }
    },
    {
      "cell_type": "code",
      "source": [
        "from google.colab import drive\n",
        "import os\n",
        "drive.mount('/content/drive')\n"
      ],
      "metadata": {
        "colab": {
          "base_uri": "https://localhost:8080/"
        },
        "id": "n8kQJM9BqS40",
        "outputId": "ab8d476c-5703-4079-a3db-2df2f4b90d87"
      },
      "execution_count": 1,
      "outputs": [
        {
          "output_type": "stream",
          "name": "stdout",
          "text": [
            "Mounted at /content/drive\n"
          ]
        }
      ]
    },
    {
      "cell_type": "code",
      "source": [
        "from google.colab import auth\n",
        "auth.authenticate_user()\n",
        "print('Authenticated')"
      ],
      "metadata": {
        "colab": {
          "base_uri": "https://localhost:8080/"
        },
        "id": "QyrA-1AMgj5r",
        "outputId": "7d5089db-31e6-4236-e1f6-01e9235464e2"
      },
      "execution_count": 2,
      "outputs": [
        {
          "output_type": "stream",
          "name": "stdout",
          "text": [
            "Authenticated\n"
          ]
        }
      ]
    },
    {
      "cell_type": "code",
      "source": [],
      "metadata": {
        "id": "JQkWjFBrgqrC"
      },
      "execution_count": null,
      "outputs": []
    },
    {
      "cell_type": "code",
      "source": [
        "import os\n",
        "import pandas as pd\n",
        "import numpy as np\n",
        "from google.cloud import bigquery\n",
        "#we need a google project - if you have no ipsos right - set up a project on your personal google account\n",
        "#so you can try this\n",
        "my_project_id = 'mgcp-1192365-ipsos-gbht-srf617'\n",
        "\n",
        "client = bigquery.Client(project=my_project_id)\n",
        "\n",
        "from google.colab import auth\n",
        "auth.authenticate_user()\n",
        "print('Authenticated')"
      ],
      "metadata": {
        "colab": {
          "base_uri": "https://localhost:8080/"
        },
        "id": "SbZ6u7uLuDnf",
        "outputId": "46c192e7-7ed0-4ace-fec7-e61a9fe78a31"
      },
      "execution_count": 3,
      "outputs": [
        {
          "output_type": "stream",
          "name": "stdout",
          "text": [
            "Authenticated\n"
          ]
        }
      ]
    },
    {
      "cell_type": "markdown",
      "source": [],
      "metadata": {
        "id": "-JsEgv2rPOqw"
      }
    },
    {
      "cell_type": "code",
      "source": [
        "def extract_data(columns,whereclause):\n",
        "    # Initialisez un client BigQuery\n",
        "\n",
        "    query = f\"\"\"\n",
        "    BEGIN\n",
        "    DECLARE strSQLFlat STRING;\n",
        "    DECLARE strSQLTall STRING;\n",
        "    DECLARE strSQLTabulate STRING;\n",
        "    DECLARE strSQLFullCommand STRING;\n",
        "    DECLARE strSQLWhereClause STRING;\n",
        "\n",
        "    SET strSQLTall = CONCAT(\"WITH BPtall AS (\",\n",
        "        \"SELECT * FROM (\",CHR(13),CHR(10),\n",
        "            \" SELECT m.metricLabel, r.responseLabel, NULL AS intData, NULL AS floatData, NULL AS DateData, NULL AS StringData, c.respondentUUID, m.metricCode, r.responseCode, m.metricOrder, r.responseOrder, m.metricID, r.responseID, m.metricType\",CHR(13),CHR(10),\n",
        "            \" FROM BP_COMMON.tblMetricMap m\",CHR(13),CHR(10),\n",
        "            \" INNER JOIN BP_COMMON.tblResponseMap r ON m.metricID=r.metricID\",CHR(13),CHR(10),\n",
        "            \" INNER JOIN BP_COMMON.rldCategoricals c ON c.metricID=m.metricID AND c.responseID=r.responseID\",CHR(13),CHR(10),\n",
        "            \" WHERE m.metricCode IN  UNNEST({columns})\",CHR(13),CHR(10),\n",
        "            \" UNION ALL\",CHR(13),CHR(10),\n",
        "            \" SELECT m.metricLabel, NULL AS responseLabel, o.intData, o.floatData, o.DateData, o.StringData, o.respondentUUID, m.metricCode, NULL AS responseCode, m.metricOrder, NULL AS responseOrder, m.metricID, NULL AS responseID, m.metricType\",CHR(13),CHR(10),\n",
        "            \" FROM BP_COMMON.tblMetricMap m\",CHR(13),CHR(10),\n",
        "            \" INNER JOIN BP_COMMON.rldOther o ON o.metricID=m.metricID\",CHR(13),CHR(10),\n",
        "            \" WHERE m.metricCode IN UNNEST({columns})\",CHR(13),CHR(10),\n",
        "            \" ORDER BY metricOrder, responseOrder)),\");\n",
        "    SET strSQLFlat=(\n",
        "    WITH fieldList AS (\n",
        "    SELECT * FROM UNNEST ({columns}) AS strVarName\n",
        "    )\n",
        "    SELECT STRING_AGG(strSQL ORDER BY ord)\n",
        "    FROM (\n",
        "    SELECT CONCAT(\" bpFlat AS (\",\"SELECT respondentUUID \",CHR(13),CHR(10)) AS strSQL,-1 AS ord\n",
        "    UNION ALL\n",
        "    SELECT CONCAT(\"MAX(IF(metricCode = '\",metricCode,\"',\",CASE WHEN metricType=\"long\" THEN \"intData\" WHEN metricType=\"text\" THEN \"stringData\" WHEN metricType=\"double\" THEN \"floatData\" WHEN metricType=\"date\" THEN \"dateData\" END ,\", NULL)) as \",metricCode,CHR(13),CHR(10)) AS strSQL, metricOrder AS ord\n",
        "    FROM BP_COMMON.tblMetricMap m INNER JOIN fieldList ON fieldList.strVarname=m.metricCode AND metricType<>\"categorical\"\n",
        "    UNION ALL\n",
        "    SELECT CONCAT(\"MAX(IF(metricCode = '\",metricCode,\"',\",CASE WHEN metricType=\"categorical\" THEN \"responseLabel\" END ,\", NULL)) as \",metricCode,CHR(13),CHR(10)) AS strSQL, metricOrder AS ord\n",
        "    FROM BP_COMMON.tblMetricMap m INNER JOIN fieldList ON fieldList.strVarname=m.metricCode AND metricType=\"categorical\"\n",
        "    LEFT OUTER JOIN (SELECT metricCodeSegment, COUNT(DISTINCT metricCode) AS mpCount FROM BP_COMMON.tblMetricMap WHERE isMultipunch<>0 GROUP BY 1 HAVING COUNT(DISTINCT metricCode)=1) mpNotSpread ON m.metricCodeSegment=mpNotSpread.metricCodeSegment\n",
        "    WHERE mpNotSpread.mpCount IS NULL /* If these are multipunch, they were spread out in the metricMap */\n",
        "    UNION ALL\n",
        "    SELECT CONCAT(\"STRING_AGG(DISTINCT IF(metricCode = '\",metricCode,\"',\",CASE WHEN metricType=\"categorical\" THEN \"responseLabel\" END ,\", NULL),'|') as \",metricCode,CHR(13),CHR(10)) AS strSQL, metricOrder AS ord\n",
        "    FROM BP_COMMON.tblMetricMap m INNER JOIN fieldList ON fieldList.strVarname=m.metricCode AND metricType=\"categorical\"\n",
        "    LEFT OUTER JOIN (SELECT metricCodeSegment, COUNT(DISTINCT metricCode) AS mpCount FROM BP_COMMON.tblMetricMap WHERE isMultipunch<>0 GROUP BY 1 HAVING COUNT(DISTINCT metricCode)=1) mpNotSpread ON m.metricCodeSegment=mpNotSpread.metricCodeSegment\n",
        "    WHERE mpNotSpread.mpCount IS NOT NULL /* These multipunch only appear one time in the metricMap, so would have multiple answers */\n",
        "    UNION ALL\n",
        "    SELECT CONCAT(\" FROM bpTall\",CHR(13),CHR(10),\"GROUP BY respondentUUID ORDER BY respondentUUID)\") AS strSQL, 999999999 AS ord\n",
        "    ));\n",
        "\n",
        "    SET strSQLWhereClause=\"{whereclause}\";\n",
        "\n",
        "    SET strSQLTabulate =\n",
        "    CONCAT(CHR(13),CHR(10),CHR(13),CHR(10),\"SELECT * \",CHR(13),CHR(10),\n",
        "    \" FROM BPFlat \",CHR(13),CHR(10),\n",
        "    \" \",strSQLWhereClause,CHR(13),CHR(10));\n",
        "\n",
        "\n",
        "\n",
        "    /* Tabulate the results, or show the SQL */\n",
        "    SET strSQLFullCommand = CONCAT(strSQLTall,strSQLFlat,strSQLTabulate);\n",
        "    EXECUTE IMMEDIATE strSQLFullCommand;\n",
        "\n",
        "\n",
        "\n",
        "\n",
        " END\n",
        "\"\"\"\n",
        "\n",
        "    # Utilisez le client BigQuery pour exécuter la requête et convertir le résultat en un DataFrame pandas\n",
        "    df = client.query(query).to_dataframe()\n",
        "\n",
        "    # Retournez le DataFrame\n",
        "    return df\n",
        "\n"
      ],
      "metadata": {
        "id": "9zWzGBzarsWW"
      },
      "execution_count": 4,
      "outputs": []
    },
    {
      "cell_type": "code",
      "source": [
        "\n",
        "variables = ['respondentUUID',\n",
        "             \"bd_matchKey\",\n",
        "'hv_sampleType',\n",
        "'wt_main',\n",
        "'fv_surveyWave',\n",
        "'bd_country',\n",
        "'bd_ageNets1',\n",
        "\n",
        "'qq_m_familiarity_google',\n",
        "'qq_m_advocacy_google',\n",
        "'qq_m_trust_google',\n",
        "\n",
        "'qq_m_contribAttr_google_benefitsSocietyCulture',\n",
        "'qq_m_contribAttr_google_committed',\n",
        "'qq_m_contribAttr_google_crisesAid',\n",
        "'qq_m_contribAttr_google_devAiTech',\n",
        "'qq_m_contribAttr_google_economy',\n",
        "'qq_m_contribAttr_google_education',\n",
        "'qq_m_contribAttr_google_environmentHealth',\n",
        "'qq_m_contribAttr_google_equalRights',\n",
        "'qq_m_contribAttr_google_freedomOfExpression',\n",
        "'qq_m_contribAttr_google_helpFindJobs',\n",
        "'qq_m_contribAttr_google_helpfulEdu',\n",
        "'qq_m_contribAttr_google_helpsSmallBusGrow',\n",
        "'qq_m_contribAttr_google_improveCompSciEdu',\n",
        "'qq_m_contribAttr_google_improveSkills',\n",
        "'qq_m_contribAttr_google_improvesPeoplesLives',\n",
        "'qq_m_contribAttr_google_jobsGrowth',\n",
        "'qq_m_contribAttr_google_partOfCulture',\n",
        "'qq_m_contribAttr_google_positiveContrSociety',\n",
        "'qq_m_contribAttr_google_provideCompSciEdu',\n",
        "'qq_m_contribAttr_google_responsibleWithAi',\n",
        "'qq_m_contribAttr_google_saveTime',\n",
        "'qq_m_contribAttr_google_sustainableChoices',\n",
        "'qq_m_contribAttr_google_userFriendly',\n",
        "\n",
        "'qq_m_privacyAttr_google_cybersecurity',\n",
        "'qq_m_privacyAttr_google_misinformation',\n",
        "'qq_m_privacyAttr_google_noPiiSales',\n",
        "'qq_m_privacyAttr_google_parentsTools',\n",
        "'qq_m_privacyAttr_google_peopleSafeOnline',\n",
        "'qq_m_privacyAttr_google_piiSafe',\n",
        "'qq_m_privacyAttr_google_piiToolsMngmnt',\n",
        "'qq_m_privacyAttr_google_preventViolentContent',\n",
        "'qq_m_privacyAttr_google_respectsPrivacy',\n",
        "'qq_m_privacyAttr_google_safeData',\n",
        "'qq_m_privacyAttr_google_safeForKids',\n",
        "'qq_m_privacyAttr_google_securityTech',\n",
        "'qq_m_privacyAttr_google_transparent',\n",
        "\n",
        "'qq_m_funcEmotAttr_google_accurate',\n",
        "'qq_m_funcEmotAttr_google_aiLeader',\n",
        "'qq_m_funcEmotAttr_google_aiTech',\n",
        "'qq_m_funcEmotAttr_google_cares',\n",
        "'qq_m_funcEmotAttr_google_caring',\n",
        "'qq_m_funcEmotAttr_google_clw',\n",
        "'qq_m_funcEmotAttr_google_cuttingEdge',\n",
        "'qq_m_funcEmotAttr_google_enjoyLife',\n",
        "'qq_m_funcEmotAttr_google_enviSustain',\n",
        "'qq_m_funcEmotAttr_google_ethical',\n",
        "'qq_m_funcEmotAttr_google_forEveryone',\n",
        "'qq_m_funcEmotAttr_google_forMe',\n",
        "'qq_m_funcEmotAttr_google_fun',\n",
        "'qq_m_funcEmotAttr_google_helpful',\n",
        "'qq_m_funcEmotAttr_google_helpfulProds',\n",
        "'qq_m_funcEmotAttr_google_helpsImproveLives',\n",
        "'qq_m_funcEmotAttr_google_innoMotiv',\n",
        "'qq_m_funcEmotAttr_google_innovative',\n",
        "'qq_m_funcEmotAttr_google_inspiring',\n",
        "'qq_m_funcEmotAttr_google_open',\n",
        "'qq_m_funcEmotAttr_google_optimistic',\n",
        "'qq_m_funcEmotAttr_google_peopleSafe',\n",
        "'qq_m_funcEmotAttr_google_privacy',\n",
        "'qq_m_funcEmotAttr_google_quality',\n",
        "'qq_m_funcEmotAttr_google_responsible',\n",
        "'qq_m_funcEmotAttr_google_safe',\n",
        "'qq_m_funcEmotAttr_google_saveTime',\n",
        "'qq_m_funcEmotAttr_google_trustworthy',\n",
        "'qq_m_funcEmotAttr_google_userFriendly',\n",
        "'qq_m_funcEmotAttr_google_values',\n",
        "'qq_m_funcEmotAttr_google_visionary'\n",
        "\n",
        "\n",
        "]\n",
        "\n",
        "clause= \"WHERE hv_sampleType='MAIN' \\\n",
        "AND EXTRACT(YEAR FROM DATE(fv_surveyWave)) =2023 \\\n",
        "AND EXTRACT(MONTH FROM DATE(fv_surveyWave)) in (4) \\\n",
        "AND bd_country in('India') ORDER BY fv_surveyWave ,bd_country, bd_matchKeyDESC \""
      ],
      "metadata": {
        "id": "w3xaaqnMhCBK"
      },
      "execution_count": null,
      "outputs": []
    },
    {
      "cell_type": "code",
      "source": [
        "df = extract_data(variables,clause)\n",
        "df.to_csv('testS_3.csv')"
      ],
      "metadata": {
        "id": "n3ljmu9U5W0G"
      },
      "execution_count": null,
      "outputs": []
    }
  ]
}